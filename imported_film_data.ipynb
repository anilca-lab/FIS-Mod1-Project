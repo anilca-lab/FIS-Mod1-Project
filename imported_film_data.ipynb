{
 "cells": [
  {
   "cell_type": "code",
   "execution_count": 2,
   "metadata": {},
   "outputs": [],
   "source": [
    "import pandas as pd"
   ]
  },
  {
   "cell_type": "code",
   "execution_count": 3,
   "metadata": {},
   "outputs": [],
   "source": [
    "import matplotlib.pyplot as plt"
   ]
  },
  {
   "cell_type": "code",
   "execution_count": 4,
   "metadata": {},
   "outputs": [],
   "source": [
    "import seaborn as sns"
   ]
  },
  {
   "cell_type": "code",
   "execution_count": 5,
   "metadata": {},
   "outputs": [],
   "source": [
    "bom_movie_gross = pd.read_csv(\"../data/bom.movie_gross.csv.gz\")"
   ]
  },
  {
   "cell_type": "code",
   "execution_count": 6,
   "metadata": {},
   "outputs": [],
   "source": [
    "imdb_name_basics = pd.read_csv(\"../data/imdb.name.basics.csv.gz\")"
   ]
  },
  {
   "cell_type": "code",
   "execution_count": 7,
   "metadata": {},
   "outputs": [],
   "source": [
    "imdb_title_akas = pd.read_csv(\"../data/imdb.title.akas.csv.gz\")"
   ]
  },
  {
   "cell_type": "code",
   "execution_count": 8,
   "metadata": {},
   "outputs": [],
   "source": [
    "imdb_title_basics = pd.read_csv(\"../data/imdb.title.basics.csv.gz\")"
   ]
  },
  {
   "cell_type": "code",
   "execution_count": 9,
   "metadata": {},
   "outputs": [],
   "source": [
    "imdb_title_crew = pd.read_csv(\"../data/imdb.title.crew.csv.gz\")"
   ]
  },
  {
   "cell_type": "code",
   "execution_count": 10,
   "metadata": {},
   "outputs": [],
   "source": [
    "imdb_title_principals = pd.read_csv(\"../data/imdb.title.principals.csv.gz\")"
   ]
  },
  {
   "cell_type": "code",
   "execution_count": 11,
   "metadata": {},
   "outputs": [],
   "source": [
    "imdb_title_ratings = pd.read_csv(\"../data/imdb.title.ratings.csv.gz\")"
   ]
  },
  {
   "cell_type": "code",
   "execution_count": 12,
   "metadata": {},
   "outputs": [],
   "source": [
    "rt_movie_info = pd.read_csv(\"../data/rt.movie_info.tsv.gz\", sep='\\t')"
   ]
  },
  {
   "cell_type": "code",
   "execution_count": 13,
   "metadata": {},
   "outputs": [],
   "source": [
    "# rt_reviews = pd.read_csv(data_directory+'rt.reviews.tsv.gz', delimiter = '\\t', encoding = 'cp437')"
   ]
  },
  {
   "cell_type": "code",
   "execution_count": 14,
   "metadata": {},
   "outputs": [],
   "source": [
    "tmdb_movies = pd.read_csv(\"../data/tmdb.movies.csv.gz\")"
   ]
  },
  {
   "cell_type": "code",
   "execution_count": 15,
   "metadata": {},
   "outputs": [],
   "source": [
    "tn_movie_budgets = pd.read_csv(\"../data/tn.movie_budgets.csv.gz\")"
   ]
  },
  {
   "cell_type": "code",
   "execution_count": 16,
   "metadata": {},
   "outputs": [],
   "source": [
    "%matplotlib inline"
   ]
  },
  {
   "cell_type": "code",
   "execution_count": 17,
   "metadata": {},
   "outputs": [],
   "source": [
    "import pandas as pd\n",
    "data_directory = '../Data/'  \n",
    "# df_bom = pd.read_csv(data_directory+'bom.movie_gross.csv.gz') #Source: Box Office Mojo\n",
    "# df_rt_movies = pd.read_csv(data_directory+'rt.movie_info.tsv.gz', delimiter = '\\t') #Source: Rotten tomatoes\n",
    "# df_rt_reviews = pd.read_csv(data_directory+'rt.reviews.tsv.gz', delimiter = '\\t', encoding = 'cp437') #Source: Rotten tomatoes \n",
    "df_imdb_basics = pd.read_csv(data_directory+'imdb.title.basics.csv.gz') # Source: IMDB\n",
    "df_imdb_ratings = pd.read_csv(data_directory+'imdb.title.ratings.csv.gz') # Source: IMDB\n",
    "df_mdb_ratings = pd.read_csv(data_directory+'tmdb.movies.csv.gz') # Source: MovieDB\n",
    "df_mdb_revenues = pd.read_csv(data_directory+'tn.movie_budgets.csv.gz') # Source: MovieDB"
   ]
  },
  {
   "cell_type": "markdown",
   "metadata": {},
   "source": [
    "# Creating Lists and Graphs and Things"
   ]
  },
  {
   "cell_type": "markdown",
   "metadata": {},
   "source": [
    "Instead of using the arbitrary 100000 we will use 25%... "
   ]
  },
  {
   "cell_type": "markdown",
   "metadata": {},
   "source": [
    "So I want to first sort by \"averagerating\", because if we're going to claim to know what type of movie Microsoft Film Studios should make like some kind of mystic, we may as tell them we aim to be compared to the best of the best.  But they also need to have a certain amount of weight, or proof which comes for better or worse throgh \"numvotes\", because strength in numbers. "
   ]
  },
  {
   "cell_type": "markdown",
   "metadata": {},
   "source": [
    "# Plot average rating over the y-axis, movies with greater \"numvotes\" have a more opaque color whereas the movies with less are transparent. X-Axis displays names? vvvv"
   ]
  },
  {
   "cell_type": "code",
   "execution_count": 18,
   "metadata": {},
   "outputs": [],
   "source": [
    "# The function cleans the two Movie DB dataframes\n",
    "def df_clean(data_frame, release_date_column, movie_title_column):\n",
    "    data_frame.drop_duplicates(keep = 'first', inplace = True)\n",
    "    if data_frame[release_date_column].dtypes == 'int64':\n",
    "        data_frame[release_date_column] = pd.to_datetime(data_frame[release_date_column], format = '%Y').dt.to_period(\"Y\") # Assume that movies released in the same month of the same year are the same.\n",
    "    else:\n",
    "        data_frame[release_date_column] = pd.to_datetime(data_frame[release_date_column]).dt.to_period(\"Y\") # Assume that movies released in the same month of the same year are the same.\n",
    "    data_frame[movie_title_column] = [\" \".join(title.upper().split()) for title in data_frame[movie_title_column]] # Remove whitespaces\n",
    "    data_frame[movie_title_column] = [title.replace('Â', \"'\") for title in data_frame[movie_title_column]] \n",
    "    data_frame[movie_title_column] = [title.replace('#', '') for title in data_frame[movie_title_column]] \n",
    "    data_frame[movie_title_column] = [title.replace('\"', '') for title in data_frame[movie_title_column]]               \n",
    "    data_frame.drop_duplicates([movie_title_column, release_date_column], keep = False, inplace = True)\n",
    "    data_frame.sort_values(by = [release_date_column, movie_title_column], ascending = [False, True], inplace = True)\n",
    "    data_frame.rename(columns={release_date_column: 'release_date', movie_title_column: 'title'}, inplace = True)\n",
    "    return data_frame"
   ]
  },
  {
   "cell_type": "code",
   "execution_count": 19,
   "metadata": {},
   "outputs": [],
   "source": [
    "# Merge Movie DB dataframes\n",
    "df_mdb_ratings.drop('Unnamed: 0', axis = 1, inplace = True) # This is an extra index column\n",
    "df_mdb_ratings = df_clean(df_mdb_ratings, 'release_date', 'title')\n",
    "df_mdb_revenues = df_clean(df_mdb_revenues, 'release_date', 'movie')\n",
    "df_mdb = pd.merge(df_mdb_ratings, df_mdb_revenues, how = 'outer', \\\n",
    "              left_on = ['title', 'release_date'], \\\n",
    "              right_on = ['title', 'release_date'], \\\n",
    "              indicator = True, validate=\"one_to_one\", \\\n",
    "              sort = True)\n"
   ]
  },
  {
   "cell_type": "code",
   "execution_count": 20,
   "metadata": {},
   "outputs": [],
   "source": [
    "# Merge IMDB dataframes\n",
    "df_imdb_basics = df_clean(df_imdb_basics, 'start_year', 'primary_title')\n",
    "df_imdb = pd.merge(df_imdb_basics, df_imdb_ratings, how = 'outer', \\\n",
    "              on = 'tconst', \\\n",
    "              indicator = True, validate=\"one_to_one\")"
   ]
  },
  {
   "cell_type": "code",
   "execution_count": 21,
   "metadata": {},
   "outputs": [],
   "source": [
    "# Merge Movie DB and IMDB dataframes\n",
    "df = pd.merge(df_imdb.drop(columns = '_merge'), df_mdb.drop(columns = '_merge'), how = 'outer', \\\n",
    "              left_on = ['title', 'release_date'], \\\n",
    "              right_on = ['title', 'release_date'], \\\n",
    "              indicator = True, validate=\"many_to_one\", \\\n",
    "              sort = True)\n",
    "df_merged = df.loc[df._merge == 'both']"
   ]
  },
  {
   "cell_type": "code",
   "execution_count": 22,
   "metadata": {},
   "outputs": [],
   "source": [
    "df_merged = df.loc[df._merge == 'both']\n"
   ]
  },
  {
   "cell_type": "markdown",
   "metadata": {},
   "source": [
    "# Took out any movies that didn't have rating votes in either IMDB or MoviesDB"
   ]
  },
  {
   "cell_type": "code",
   "execution_count": 184,
   "metadata": {},
   "outputs": [],
   "source": [
    "df_clean = pd.read_csv(\"export_df_clean.csv\")"
   ]
  },
  {
   "cell_type": "code",
   "execution_count": 185,
   "metadata": {},
   "outputs": [
    {
     "data": {
      "text/plain": [
       "Index(['title', 'release_year', 'genres', 'averagerating', 'numvotes',\n",
       "       'genre_ids', 'popularity', 'vote_average', 'vote_count',\n",
       "       'release_year_month', 'production_budget', 'domestic_gross',\n",
       "       'worldwide_gross', '_merge'],\n",
       "      dtype='object')"
      ]
     },
     "execution_count": 185,
     "metadata": {},
     "output_type": "execute_result"
    }
   ],
   "source": [
    "df_clean.columns"
   ]
  },
  {
   "cell_type": "code",
   "execution_count": 186,
   "metadata": {},
   "outputs": [],
   "source": [
    "# df_clean[\"release_year_month\"].map(lambda x: len(x.split())).head()\n",
    "\n",
    "month = []\n",
    "for movies in df_clean[\"release_year_month\"]:\n",
    "    if isinstance(movies, str):\n",
    "        month.append(movies[5:7])\n",
    "    else:\n",
    "        month.append(\"00\")\n",
    "df_clean[\"month\"] = month"
   ]
  },
  {
   "cell_type": "code",
   "execution_count": 206,
   "metadata": {},
   "outputs": [],
   "source": [
    "df_watched = df_clean.loc[(df_clean[\"numvotes\"] >= 284) & (df_clean[\"vote_count\"] >= 25)]\n",
    "#Removed all but the top 25% of voted on movies..."
   ]
  },
  {
   "cell_type": "code",
   "execution_count": 207,
   "metadata": {},
   "outputs": [
    {
     "name": "stdout",
     "output_type": "stream",
     "text": [
      "<class 'pandas.core.frame.DataFrame'>\n",
      "Int64Index: 3861 entries, 36 to 85238\n",
      "Data columns (total 15 columns):\n",
      "title                 3861 non-null object\n",
      "release_year          3861 non-null float64\n",
      "genres                3861 non-null object\n",
      "averagerating         3861 non-null float64\n",
      "numvotes              3861 non-null float64\n",
      "genre_ids             3861 non-null object\n",
      "popularity            3861 non-null float64\n",
      "vote_average          3861 non-null float64\n",
      "vote_count            3861 non-null float64\n",
      "release_year_month    3861 non-null object\n",
      "production_budget     1236 non-null object\n",
      "domestic_gross        1236 non-null object\n",
      "worldwide_gross       1236 non-null object\n",
      "_merge                3861 non-null object\n",
      "month                 3861 non-null object\n",
      "dtypes: float64(6), object(9)\n",
      "memory usage: 482.6+ KB\n"
     ]
    }
   ],
   "source": [
    "df_watched.info()"
   ]
  },
  {
   "cell_type": "code",
   "execution_count": 208,
   "metadata": {
    "scrolled": true
   },
   "outputs": [
    {
     "data": {
      "text/html": [
       "<div>\n",
       "<style scoped>\n",
       "    .dataframe tbody tr th:only-of-type {\n",
       "        vertical-align: middle;\n",
       "    }\n",
       "\n",
       "    .dataframe tbody tr th {\n",
       "        vertical-align: top;\n",
       "    }\n",
       "\n",
       "    .dataframe thead th {\n",
       "        text-align: right;\n",
       "    }\n",
       "</style>\n",
       "<table border=\"1\" class=\"dataframe\">\n",
       "  <thead>\n",
       "    <tr style=\"text-align: right;\">\n",
       "      <th></th>\n",
       "      <th>release_year</th>\n",
       "      <th>averagerating</th>\n",
       "      <th>numvotes</th>\n",
       "      <th>popularity</th>\n",
       "      <th>vote_average</th>\n",
       "      <th>vote_count</th>\n",
       "    </tr>\n",
       "  </thead>\n",
       "  <tbody>\n",
       "    <tr>\n",
       "      <th>count</th>\n",
       "      <td>3861.000000</td>\n",
       "      <td>3861.000000</td>\n",
       "      <td>3.861000e+03</td>\n",
       "      <td>3861.000000</td>\n",
       "      <td>3861.000000</td>\n",
       "      <td>3861.000000</td>\n",
       "    </tr>\n",
       "    <tr>\n",
       "      <th>mean</th>\n",
       "      <td>2014.186221</td>\n",
       "      <td>6.119736</td>\n",
       "      <td>5.386076e+04</td>\n",
       "      <td>9.129434</td>\n",
       "      <td>6.115592</td>\n",
       "      <td>948.374514</td>\n",
       "    </tr>\n",
       "    <tr>\n",
       "      <th>std</th>\n",
       "      <td>2.480656</td>\n",
       "      <td>1.106378</td>\n",
       "      <td>1.175098e+05</td>\n",
       "      <td>6.477008</td>\n",
       "      <td>0.973714</td>\n",
       "      <td>2050.440201</td>\n",
       "    </tr>\n",
       "    <tr>\n",
       "      <th>min</th>\n",
       "      <td>2010.000000</td>\n",
       "      <td>1.500000</td>\n",
       "      <td>3.020000e+02</td>\n",
       "      <td>0.600000</td>\n",
       "      <td>1.600000</td>\n",
       "      <td>25.000000</td>\n",
       "    </tr>\n",
       "    <tr>\n",
       "      <th>25%</th>\n",
       "      <td>2012.000000</td>\n",
       "      <td>5.400000</td>\n",
       "      <td>3.168000e+03</td>\n",
       "      <td>5.421000</td>\n",
       "      <td>5.500000</td>\n",
       "      <td>52.000000</td>\n",
       "    </tr>\n",
       "    <tr>\n",
       "      <th>50%</th>\n",
       "      <td>2014.000000</td>\n",
       "      <td>6.200000</td>\n",
       "      <td>9.630000e+03</td>\n",
       "      <td>7.666000</td>\n",
       "      <td>6.100000</td>\n",
       "      <td>155.000000</td>\n",
       "    </tr>\n",
       "    <tr>\n",
       "      <th>75%</th>\n",
       "      <td>2016.000000</td>\n",
       "      <td>6.900000</td>\n",
       "      <td>4.550700e+04</td>\n",
       "      <td>10.937000</td>\n",
       "      <td>6.800000</td>\n",
       "      <td>772.000000</td>\n",
       "    </tr>\n",
       "    <tr>\n",
       "      <th>max</th>\n",
       "      <td>2018.000000</td>\n",
       "      <td>8.800000</td>\n",
       "      <td>1.841066e+06</td>\n",
       "      <td>80.773000</td>\n",
       "      <td>8.600000</td>\n",
       "      <td>22186.000000</td>\n",
       "    </tr>\n",
       "  </tbody>\n",
       "</table>\n",
       "</div>"
      ],
      "text/plain": [
       "       release_year  averagerating      numvotes   popularity  vote_average  \\\n",
       "count   3861.000000    3861.000000  3.861000e+03  3861.000000   3861.000000   \n",
       "mean    2014.186221       6.119736  5.386076e+04     9.129434      6.115592   \n",
       "std        2.480656       1.106378  1.175098e+05     6.477008      0.973714   \n",
       "min     2010.000000       1.500000  3.020000e+02     0.600000      1.600000   \n",
       "25%     2012.000000       5.400000  3.168000e+03     5.421000      5.500000   \n",
       "50%     2014.000000       6.200000  9.630000e+03     7.666000      6.100000   \n",
       "75%     2016.000000       6.900000  4.550700e+04    10.937000      6.800000   \n",
       "max     2018.000000       8.800000  1.841066e+06    80.773000      8.600000   \n",
       "\n",
       "         vote_count  \n",
       "count   3861.000000  \n",
       "mean     948.374514  \n",
       "std     2050.440201  \n",
       "min       25.000000  \n",
       "25%       52.000000  \n",
       "50%      155.000000  \n",
       "75%      772.000000  \n",
       "max    22186.000000  "
      ]
     },
     "execution_count": 208,
     "metadata": {},
     "output_type": "execute_result"
    }
   ],
   "source": [
    "df_watched.describe()"
   ]
  },
  {
   "cell_type": "code",
   "execution_count": 249,
   "metadata": {},
   "outputs": [
    {
     "data": {
      "text/plain": [
       "(3861, 15)"
      ]
     },
     "execution_count": 249,
     "metadata": {},
     "output_type": "execute_result"
    }
   ],
   "source": [
    "df_watched.shape"
   ]
  },
  {
   "cell_type": "code",
   "execution_count": 213,
   "metadata": {
    "scrolled": true
   },
   "outputs": [],
   "source": [
    "total_movies_month = df_watched[\"month\"].value_counts()"
   ]
  },
  {
   "cell_type": "code",
   "execution_count": 231,
   "metadata": {},
   "outputs": [],
   "source": [
    "total_movies_month = total_movies_month.sort_index()"
   ]
  },
  {
   "cell_type": "code",
   "execution_count": 246,
   "metadata": {},
   "outputs": [
    {
     "data": {
      "text/plain": [
       "<matplotlib.axes._subplots.AxesSubplot at 0x2088d6d00b8>"
      ]
     },
     "execution_count": 246,
     "metadata": {},
     "output_type": "execute_result"
    },
    {
     "data": {
      "image/png": "[encoded data removed]",
      "text/plain": [
       "<Figure size 432x288 with 1 Axes>"
      ]
     },
     "metadata": {
      "needs_background": "light"
     },
     "output_type": "display_data"
    }
   ],
   "source": [
    "sns.barplot(total_movies_month.index, total_movies_month.values)"
   ]
  },
  {
   "cell_type": "code",
   "execution_count": 248,
   "metadata": {},
   "outputs": [
    {
     "data": {
      "image/png": "[encoded data removed]",
      "text/plain": [
       "<Figure size 432x288 with 1 Axes>"
      ]
     },
     "metadata": {
      "needs_background": "light"
     },
     "output_type": "display_data"
    }
   ],
   "source": [
    "p1=sns.boxplot(x=df_watched[\"month\"], y=df_watched[\"averagerating\"], data=df_watched, order=[\"01\", \"02\", \"03\", \"04\", \"05\", \"06\", \"07\", \"08\", \"09\", \"10\", \"11\", \"12\"])"
   ]
  },
  {
   "cell_type": "code",
   "execution_count": 247,
   "metadata": {
    "scrolled": true
   },
   "outputs": [
    {
     "data": {
      "image/png": "[encoded data removed]",
      "text/plain": [
       "<Figure size 432x288 with 1 Axes>"
      ]
     },
     "metadata": {
      "needs_background": "light"
     },
     "output_type": "display_data"
    }
   ],
   "source": [
    "p1=sns.boxplot(x=df_watched[\"month\"], y=df_watched[\"vote_average\"], data=df_watched, order=[\"01\", \"02\", \"03\", \"04\", \"05\", \"06\", \"07\", \"08\", \"09\", \"10\", \"11\", \"12\"])"
   ]
  },
  {
   "cell_type": "code",
   "execution_count": 182,
   "metadata": {},
   "outputs": [
    {
     "data": {
      "text/plain": [
       "array(['Documentary', 'Action,Adventure,Comedy', 'Comedy', 'Romance',\n",
       "       'Action,Drama,Thriller', 'Drama,Romance', 'Sport', 'Thriller',\n",
       "       'Drama', 'Action,Comedy,Crime', 'Documentary,Drama,News',\n",
       "       'Comedy,Romance', 'Comedy,Music', 'Horror,Sci-Fi,Thriller',\n",
       "       'Comedy,Drama,Mystery', 'Action,Drama', 'Action,Animation,Sci-Fi',\n",
       "       'Biography,Documentary,Drama', 'Action,Crime,Drama',\n",
       "       'Drama,Thriller', 'Documentary,History,Sport',\n",
       "       'Action,Mystery,Thriller', 'Documentary,Drama', 'Drama,Family',\n",
       "       'Comedy,Horror,Thriller', 'Drama,Romance,Sport',\n",
       "       'Adventure,Comedy,Music', 'Horror', 'Action,Animation,Documentary',\n",
       "       'Drama,War', 'Action,Crime', 'Comedy,Drama,Sci-Fi',\n",
       "       'Crime,Thriller', 'Drama,Horror,Mystery', 'Comedy,Drama,Musical',\n",
       "       'Action', 'Crime', 'Comedy,Drama', 'Crime,Mystery,Thriller',\n",
       "       'Drama,Sport', 'Comedy,Drama,Romance',\n",
       "       'Adventure,Biography,Documentary', 'Sci-Fi', 'Comedy,Drama,Music',\n",
       "       'Action,Adventure,Drama', 'Comedy,Horror',\n",
       "       'Horror,Mystery,Thriller', 'Biography,Comedy,Drama',\n",
       "       'Adventure,Comedy,History', 'Animation,Fantasy',\n",
       "       'Comedy,Drama,Family', 'Comedy,Romance,Sport', 'Drama,History',\n",
       "       'Sci-Fi,Thriller', 'Biography,Drama,Thriller', 'Action,Thriller',\n",
       "       'Crime,Drama', 'Adventure,Comedy', 'Family', 'Comedy,Family',\n",
       "       'Horror,Thriller', 'Drama,Family,Music',\n",
       "       'Adventure,Family,Fantasy', 'Biography,Crime,Documentary',\n",
       "       'Action,Adventure,Thriller', 'Action,Crime,Thriller',\n",
       "       'Action,Drama,History', 'Mystery,Thriller',\n",
       "       'Biography,Drama,History', 'Documentary,Music',\n",
       "       'Documentary,Drama,Family', 'Adventure,Biography,Drama',\n",
       "       'Crime,Drama,Horror', 'Horror,Sci-Fi', 'Crime,Documentary,History',\n",
       "       'Action,History,Thriller', 'History,Mystery,Thriller',\n",
       "       'Action,Drama,War', 'Drama,Mystery,Sci-Fi', 'Biography,Drama',\n",
       "       'Documentary,History,News', 'Adventure', 'Comedy,Family,Romance',\n",
       "       'Adventure,History', 'Documentary,Drama,Sport',\n",
       "       'Adventure,Drama,History', 'Drama,History,War',\n",
       "       'Documentary,History', 'Horror,Mystery', 'Drama,Horror,Romance',\n",
       "       'Horror,Mystery,Romance', 'Crime,Drama,History',\n",
       "       'Documentary,History,Thriller', 'Action,War',\n",
       "       'Horror,Mystery,Sci-Fi', 'Family,Sport',\n",
       "       'Biography,Documentary,Sport', 'Comedy,Crime,Drama',\n",
       "       'Comedy,Musical,Romance', 'Action,Sci-Fi', 'Comedy,Drama,Fantasy',\n",
       "       'Biography,Comedy,Documentary', 'Documentary,Drama,Music',\n",
       "       'Animation,Documentary,News', 'Action,Adventure,Sci-Fi',\n",
       "       'Drama,Mystery,Romance', 'Action,Sci-Fi,Thriller',\n",
       "       'Drama,Music,Sci-Fi', 'Action,Crime,Sci-Fi',\n",
       "       'Drama,Fantasy,Sci-Fi', 'Drama,Horror', 'Drama,Family,Fantasy',\n",
       "       'Biography,Documentary', 'Crime,Drama,Romance',\n",
       "       'Drama,Fantasy,Thriller', 'Action,Comedy', 'Drama,Family,Sport',\n",
       "       'Drama,Fantasy', 'History', 'Crime,Drama,Thriller',\n",
       "       'Action,Documentary,Sport', 'Drama,Horror,Sci-Fi',\n",
       "       'Biography,Documentary,History', 'Animation,Documentary,War',\n",
       "       'Adventure,Comedy,Drama', 'Action,Comedy,Horror', 'Comedy,Sport',\n",
       "       'Adventure,Animation', 'Horror,Romance',\n",
       "       'Action,Adventure,Animation', 'Adventure,Drama,Music',\n",
       "       'Biography,Sport', 'Comedy,Documentary', 'Documentary,Sport',\n",
       "       'Animation,Documentary,Drama', 'Action,Horror,Thriller',\n",
       "       'Action,Fantasy,War', 'Biography,Crime,Drama',\n",
       "       'Drama,Fantasy,Romance', 'Biography,Documentary,Family',\n",
       "       'Crime,Drama,Music', 'Mystery,Romance,Thriller',\n",
       "       'Crime,Documentary,Drama', 'Crime,Documentary', 'Action,Horror',\n",
       "       'Comedy,Drama,Sport', 'Mystery,Sci-Fi,Thriller',\n",
       "       'Drama,Mystery,Thriller', 'Biography,Drama,Sport',\n",
       "       'Adventure,Drama,Horror', 'Crime,Music,Thriller',\n",
       "       'Action,Thriller,Western', 'Reality-TV', 'Adventure,Drama,Romance',\n",
       "       'Comedy,Crime', 'Drama,Sci-Fi', 'Family,Romance',\n",
       "       'Drama,Sci-Fi,Thriller', 'Comedy,Drama,Horror',\n",
       "       'Adventure,Documentary,Family', 'Action,Adventure,Western',\n",
       "       'Mystery', 'Comedy,Crime,Romance', 'Action,Adventure',\n",
       "       'Adventure,Crime,Drama', 'Documentary,Drama,War',\n",
       "       'Action,Adventure,Horror', 'Fantasy,Thriller',\n",
       "       'Adventure,Animation,Family', 'Drama,Romance,Thriller',\n",
       "       'Action,Biography,Drama', 'Action,Comedy,Romance',\n",
       "       'Comedy,Fantasy', 'Biography,Drama,Fantasy', nan,\n",
       "       'Comedy,Horror,Romance', 'Adventure,Drama',\n",
       "       'Biography,Drama,Family', 'Comedy,Crime,Mystery',\n",
       "       'Documentary,History,War', 'Fantasy,Horror,Sci-Fi',\n",
       "       'Action,Comedy,Drama', 'Biography,Documentary,Music',\n",
       "       'Comedy,Horror,Music', 'Animation,Drama,Family', 'Drama,Mystery',\n",
       "       'Comedy,Drama,Thriller', 'Action,Adventure,Crime',\n",
       "       'Adventure,Animation,Comedy', 'Animation,Comedy,Fantasy',\n",
       "       'Drama,Family,Romance', 'Fantasy,Horror', 'Fantasy',\n",
       "       'Fantasy,Horror,Mystery', 'Western', 'Drama,Fantasy,Horror',\n",
       "       'Biography,Drama,Romance', 'Crime,Sci-Fi,Thriller',\n",
       "       'Adventure,Drama,Family', 'Adventure,Family', 'Comedy,Drama,War',\n",
       "       'Drama,History,Horror', 'Drama,News,War',\n",
       "       'Documentary,Drama,History', 'Biography,Documentary,News',\n",
       "       'Biography,Comedy', 'Adventure,Mystery', 'Comedy,Fantasy,Romance',\n",
       "       'Drama,Horror,Thriller', 'Biography', 'Crime,Drama,War',\n",
       "       'Comedy,Musical', 'Biography,Drama,War', 'Drama,Music,Romance',\n",
       "       'Adventure,Comedy,Fantasy', 'Family,Fantasy',\n",
       "       'Crime,Horror,Mystery', 'Drama,Music', 'Animation,Comedy',\n",
       "       'Biography,Documentary,Musical', 'Comedy,Horror,Sci-Fi',\n",
       "       'Comedy,Drama,History', 'Adventure,Crime,Thriller',\n",
       "       'Adventure,Documentary', 'Adventure,Drama,Fantasy',\n",
       "       'Drama,Musical,Western', 'Action,Comedy,Sci-Fi', 'Comedy,Western',\n",
       "       'Family,Mystery,Sport', 'Adventure,Biography,Comedy',\n",
       "       'Animation,Drama,Fantasy', 'Action,Adventure,Documentary',\n",
       "       'Action,Fantasy,Horror', 'Documentary,History,Music',\n",
       "       'Action,Drama,Romance', 'Comedy,Sci-Fi', 'Documentary,News',\n",
       "       'Animation,Drama,Romance', 'Adventure,Documentary,Drama',\n",
       "       'Biography,Family', 'Comedy,Family,Fantasy', 'Romance,Thriller',\n",
       "       'Romance,Sci-Fi,Thriller', 'Adventure,Documentary,Sport',\n",
       "       'Crime,Drama,Mystery', 'Action,Drama,Family', 'Fantasy,Romance',\n",
       "       'Action,Drama,Fantasy', 'Music', 'Action,Adventure,Family',\n",
       "       'Animation,Comedy,Family', 'Drama,Romance,Sci-Fi', 'Family,Sci-Fi',\n",
       "       'Animation', 'Comedy,Thriller', 'Adventure,Horror,Thriller',\n",
       "       'Action,Drama,Sport', 'Musical', 'Comedy,Mystery',\n",
       "       'Crime,Romance,Thriller', 'Drama,Music,Musical', 'Action,Romance',\n",
       "       'Biography,Documentary,Western', 'Action,Drama,Mystery',\n",
       "       'Adventure,Drama,Thriller', 'Crime,Horror,Thriller',\n",
       "       'Biography,Comedy,Music', 'Family,Mystery,Thriller',\n",
       "       'Action,Crime,Horror', 'Family,Mystery',\n",
       "       'Adventure,Family,Mystery', 'Biography,Drama,Music',\n",
       "       'Action,Comedy,Mystery', 'Action,Romance,Thriller',\n",
       "       'Action,Comedy,Thriller', 'Comedy,Romance,Sci-Fi',\n",
       "       'Adventure,Animation,Drama', 'Musical,Romance',\n",
       "       'Documentary,Family', 'Biography,Documentary,Romance',\n",
       "       'Adventure,Drama,War', 'Action,Adventure,Biography',\n",
       "       'Action,Adventure,Fantasy', 'Drama,Family,Horror',\n",
       "       'Drama,Family,Sci-Fi', 'Adventure,Comedy,Sci-Fi',\n",
       "       'Adventure,Comedy,Family', 'Comedy,Fantasy,Musical',\n",
       "       'Adventure,Fantasy', 'Documentary,War', 'Adventure,Comedy,Crime',\n",
       "       'Action,Drama,Horror', 'Drama,History,Music', 'Crime,Mystery',\n",
       "       'Fantasy,Horror,Thriller', 'Comedy,History', 'Drama,Family,War',\n",
       "       'Adventure,Comedy,Documentary', 'Adventure,Drama,Sci-Fi',\n",
       "       'Comedy,Crime,Horror', 'Adventure,Animation,Horror',\n",
       "       'Action,Horror,Mystery', 'Action,Fantasy',\n",
       "       'Action,Biography,Documentary', 'Action,Crime,Mystery',\n",
       "       'Drama,Romance,War', 'Adventure,Animation,Fantasy',\n",
       "       'Crime,Documentary,News', 'Crime,Drama,Fantasy',\n",
       "       'Action,Comedy,Fantasy', 'Adventure,Comedy,Horror',\n",
       "       'Comedy,Family,Sci-Fi', 'Action,Horror,Romance',\n",
       "       'Comedy,Documentary,History', 'Comedy,Fantasy,Horror',\n",
       "       'Documentary,Horror', 'Fantasy,Mystery', 'Drama,History,Romance',\n",
       "       'Action,Adventure,Mystery', 'Horror,Musical',\n",
       "       'Crime,Horror,Romance', 'Animation,Drama', 'Comedy,Music,Romance',\n",
       "       'Action,Horror,Sci-Fi', 'Fantasy,Mystery,Sci-Fi', 'War',\n",
       "       'Action,Comedy,Family', 'Action,Drama,Sci-Fi',\n",
       "       'Drama,Musical,Romance', 'Drama,Musical',\n",
       "       'Action,Comedy,Documentary', 'Action,Biography,Comedy',\n",
       "       'Documentary,Family,Western', 'Action,Comedy,Musical',\n",
       "       'Drama,Music,Thriller', 'Action,Biography,Crime',\n",
       "       'Animation,Biography,Documentary', 'Adventure,Family,Sport',\n",
       "       'History,Thriller,War', 'Family,Music,Romance',\n",
       "       'Adventure,Documentary,News', 'Documentary,Thriller',\n",
       "       'Drama,Thriller,War', 'Animation,Comedy,Drama', 'Sport,Thriller',\n",
       "       'Documentary,Romance', 'Comedy,Horror,Mystery', 'Horror,War',\n",
       "       'Adventure,History,Romance', 'Comedy,Musical,Sci-Fi',\n",
       "       'Adventure,Animation,Sci-Fi', 'Biography,History,Romance',\n",
       "       'Animation,Biography', 'Adventure,Comedy,Romance',\n",
       "       'Drama,Fantasy,Mystery', 'Comedy,Documentary,Drama',\n",
       "       'Biography,History,Thriller', 'Mystery,Sci-Fi', 'Action,Western',\n",
       "       'Documentary,Drama,Mystery', 'Animation,Horror,Mystery',\n",
       "       'Documentary,Musical', 'Animation,Biography,Drama',\n",
       "       'Comedy,Mystery,Romance', 'Drama,Family,History', 'Drama,Western',\n",
       "       'Crime,Documentary,Thriller', 'Adventure,Horror,Sci-Fi',\n",
       "       'Animation,Sci-Fi', 'Adventure,Documentary,History',\n",
       "       'Adventure,Horror,Mystery', 'Animation,Romance',\n",
       "       'Comedy,Family,Sport', 'History,Horror,Thriller',\n",
       "       'Animation,History,Horror', 'Action,Fantasy,Romance',\n",
       "       'Drama,Sport,Thriller', 'Adventure,Thriller',\n",
       "       'Comedy,Sci-Fi,Thriller', 'Action,Animation,Fantasy',\n",
       "       'Biography,Crime,Thriller', 'Romance,Sci-Fi',\n",
       "       'Documentary,Drama,Romance', 'Fantasy,Sci-Fi',\n",
       "       'Animation,Comedy,Romance', 'Adventure,Drama,Mystery',\n",
       "       'Documentary,Mystery', 'Animation,Family',\n",
       "       'Comedy,Romance,Thriller', 'Documentary,Family,History',\n",
       "       'Comedy,Fantasy,Music', 'Romance,Sport', 'Comedy,Crime,Thriller',\n",
       "       'Comedy,Mystery,Thriller', 'Documentary,Sport,War',\n",
       "       'Adventure,Drama,Western', 'Drama,History,Thriller',\n",
       "       'Documentary,Music,Sport', 'Drama,Fantasy,Musical',\n",
       "       'Action,Adventure,War', 'Action,Drama,Music',\n",
       "       'Animation,Family,Fantasy', 'Animation,Family,Sci-Fi',\n",
       "       'Animation,Family,Musical', 'Mystery,Romance,Sci-Fi',\n",
       "       'Comedy,Documentary,Music', 'Animation,Documentary,Mystery',\n",
       "       'Action,Animation', 'Action,Animation,Crime',\n",
       "       'Action,Comedy,Sport', 'Action,Sci-Fi,War', 'Animation,War',\n",
       "       'Drama,History,Musical', 'Action,Sport', 'Family,Fantasy,Musical',\n",
       "       'Documentary,Western', 'Crime,Drama,Family',\n",
       "       'Adventure,Family,Musical', 'Biography,Comedy,Crime',\n",
       "       'Adventure,Fantasy,Romance', 'Fantasy,Romance,Sci-Fi',\n",
       "       'Documentary,Horror,Romance', 'Action,Animation,Comedy',\n",
       "       'Adventure,Mystery,Sci-Fi', 'Drama,Family,Thriller',\n",
       "       'Adventure,Horror', 'Documentary,History,Mystery',\n",
       "       'Action,History,War', 'Action,Fantasy,Thriller', 'Romance,War',\n",
       "       'Crime,Drama,Western', 'Comedy,Family,History',\n",
       "       'Animation,Drama,Horror', 'Drama,Music,Mystery', 'Action,History',\n",
       "       'Drama,Fantasy,History', 'Action,Fantasy,Sci-Fi',\n",
       "       'Action,Documentary,Family', 'Animation,Crime,Mystery',\n",
       "       'Action,Crime,Documentary', 'Action,Crime,Sport',\n",
       "       'Action,Animation,Drama', 'Crime,Family', 'Drama,History,Sport',\n",
       "       'Action,History,Horror', 'Horror,Thriller,Western',\n",
       "       'Fantasy,Romance,Thriller', 'Action,Documentary,Drama',\n",
       "       'Drama,Family,Musical', 'Documentary,Family,Sport',\n",
       "       'Biography,Musical', 'Adventure,Biography,History',\n",
       "       'Documentary,Drama,Musical', 'Action,Family,Mystery',\n",
       "       'Action,Thriller,War', 'Drama,Mystery,Western',\n",
       "       'Adventure,Documentary,Music', 'Adventure,News',\n",
       "       'Comedy,Family,Mystery', 'Family,Musical', 'Action,Crime,Fantasy',\n",
       "       'Documentary,Music,Musical', 'Adventure,Animation,Biography',\n",
       "       'Comedy,Crime,History', 'Fantasy,Mystery,Thriller',\n",
       "       'Drama,Musical,Thriller', 'Adventure,Sci-Fi',\n",
       "       'Documentary,History,Sci-Fi', 'Comedy,Documentary,Horror',\n",
       "       'Drama,Musical,War', 'Horror,Romance,Thriller',\n",
       "       'Drama,History,Sci-Fi', 'Mystery,News,Thriller',\n",
       "       'Crime,Drama,Sport', 'Crime,Musical', 'Animation,History',\n",
       "       'Comedy,Crime,Documentary', 'Action,Mystery,Sci-Fi',\n",
       "       'Biography,Documentary,Fantasy', 'Biography,War',\n",
       "       'Action,Animation,Family', 'Biography,Documentary,Thriller',\n",
       "       'Comedy,Documentary,Family', 'Animation,Crime,Drama',\n",
       "       'Documentary,Horror,Thriller', 'Animation,Documentary',\n",
       "       'Animation,Crime,Thriller', 'Crime,Drama,Sci-Fi',\n",
       "       'Drama,Horror,Music', 'Drama,Music,War',\n",
       "       'Action,Adventure,Romance', 'Adventure,Mystery,Thriller',\n",
       "       'Documentary,Family,Music', 'Documentary,Family,Fantasy',\n",
       "       'Action,Drama,Western', 'Mystery,Romance', 'Crime,Mystery,Sci-Fi',\n",
       "       'Crime,Family,Horror', 'Fantasy,Horror,Romance',\n",
       "       'Comedy,Fantasy,Thriller', 'Comedy,Fantasy,Sci-Fi',\n",
       "       'Adventure,Family,Western', 'Drama,Mystery,War', 'Crime,Horror',\n",
       "       'Adventure,Fantasy,Mystery', 'Comedy,Documentary,Mystery',\n",
       "       'Animation,Mystery,Sci-Fi', 'Biography,History', 'Comedy,War',\n",
       "       'Biography,Drama,Musical', 'Comedy,Drama,Western',\n",
       "       'Family,Musical,Romance', 'Fantasy,Mystery,Romance',\n",
       "       'Adventure,Family,Sci-Fi', 'Adventure,Family,Romance',\n",
       "       'Crime,History,Thriller', 'Comedy,Horror,Western',\n",
       "       'Documentary,Drama,Horror', 'Comedy,Horror,Sport',\n",
       "       'Biography,Thriller,Western', 'Documentary,Music,War',\n",
       "       'Music,Musical', 'Comedy,History,Music', 'Action,Horror,Western',\n",
       "       'Action,Family,Thriller', 'Action,Biography',\n",
       "       'Comedy,Documentary,News', 'Animation,Family,Mystery',\n",
       "       'Documentary,Sci-Fi', 'Crime,Fantasy,Horror',\n",
       "       'Crime,Documentary,Sport', 'Documentary,Family,News',\n",
       "       'Family,Horror,Thriller', 'Crime,Sci-Fi', 'Comedy,Sport,Thriller',\n",
       "       'Animation,Comedy,Horror', 'Comedy,History,Sport',\n",
       "       'Biography,Family,Fantasy', 'Adventure,Fantasy,Horror',\n",
       "       'Action,Family,Fantasy', 'Action,Horror,Sport',\n",
       "       'Drama,Family,Mystery', 'Documentary,Fantasy',\n",
       "       'Drama,Thriller,Western', 'Comedy,Horror,Musical',\n",
       "       'Biography,History,Mystery', 'Documentary,Music,Mystery',\n",
       "       'Comedy,Music,Musical', 'Action,Documentary,Thriller',\n",
       "       'Adventure,Romance', 'Adventure,Fantasy,Sci-Fi',\n",
       "       'Action,Documentary', 'Thriller,War', 'Animation,Drama,History',\n",
       "       'Animation,Documentary,Music', 'Adventure,Music,Sci-Fi',\n",
       "       'Documentary,Drama,Sci-Fi', 'Crime,Drama,Musical',\n",
       "       'Adventure,Crime,Family', 'Documentary,History,Horror',\n",
       "       'Drama,War,Western', 'Documentary,Horror,Mystery',\n",
       "       'Action,Romance,Sport', 'Crime,Romance',\n",
       "       'Biography,Documentary,Mystery', 'Comedy,History,Musical',\n",
       "       'Animation,Horror', 'Drama,News,Thriller', 'Adventure,Western',\n",
       "       'Comedy,Documentary,Thriller', 'Animation,Sport', 'Horror,Western',\n",
       "       'Animation,Comedy,Sci-Fi', 'Comedy,Family,Musical',\n",
       "       'Documentary,Fantasy,Horror', 'Animation,Drama,Sci-Fi',\n",
       "       'Adventure,Family,Horror', 'Adventure,Documentary,Mystery',\n",
       "       'Crime,Documentary,Mystery', 'Adventure,Crime,Horror',\n",
       "       'Biography,Comedy,History', 'Comedy,Thriller,Western',\n",
       "       'Fantasy,Horror,Musical', 'Action,Biography,History',\n",
       "       'Music,Mystery,Thriller', 'Animation,Music',\n",
       "       'Biography,Family,Sport', 'Horror,Music,Thriller',\n",
       "       'Comedy,Music,Thriller', 'Animation,Documentary,History',\n",
       "       'Crime,Horror,Musical', 'Action,Adventure,History',\n",
       "       'Action,Comedy,Music', 'Animation,Sci-Fi,Thriller',\n",
       "       'Animation,Comedy,Crime', 'Mystery,Thriller,Western',\n",
       "       'Family,Fantasy,Music', 'Action,Documentary,History',\n",
       "       'Animation,Drama,Sport', 'Horror,Music,Sci-Fi', 'Music,Romance',\n",
       "       'Biography,Romance,War', 'Biography,Documentary,War',\n",
       "       'Comedy,Mystery,Sci-Fi', 'Documentary,Drama,Fantasy',\n",
       "       'Animation,History,Musical', 'Biography,History,War',\n",
       "       'Action,Animation,Horror', 'Adventure,Biography,Crime',\n",
       "       'Drama,News', 'Documentary,News,Romance', 'Action,Comedy,History',\n",
       "       'Drama,Fantasy,Music', 'History,Romance,War',\n",
       "       'Action,Crime,History', 'Musical,Thriller',\n",
       "       'Musical,Romance,Thriller', 'Adventure,Drama,Sport',\n",
       "       'Biography,Comedy,Family', 'Action,Drama,Musical',\n",
       "       'Fantasy,Sci-Fi,Thriller', 'Adventure,Music',\n",
       "       'Adventure,Documentary,Romance', 'Adventure,Comedy,Musical',\n",
       "       'History,Musical', 'Family,Western', 'Biography,Drama,Horror',\n",
       "       'Adventure,Documentary,Sci-Fi', 'Animation,Biography,Family',\n",
       "       'Action,History,Romance', 'Comedy,Crime,Sport',\n",
       "       'Comedy,Crime,Family', 'Comedy,History,Mystery',\n",
       "       'Comedy,Crime,Music', 'Crime,Music', 'Crime,Documentary,Romance',\n",
       "       'Action,Family', 'Adventure,History,Mystery',\n",
       "       'Comedy,Documentary,Romance', 'Crime,Fantasy,Thriller',\n",
       "       'Action,Adventure,Musical', 'Comedy,Documentary,Western',\n",
       "       'Action,Comedy,Western', 'Action,Adventure,Sport',\n",
       "       'Biography,Music,Romance', 'Animation,Drama,Musical',\n",
       "       'Musical,Mystery,Thriller', 'History,Western',\n",
       "       'Biography,Drama,Mystery', 'Adventure,Comedy,Mystery',\n",
       "       'Adventure,Sci-Fi,Thriller', 'Comedy,Crime,Fantasy',\n",
       "       'Comedy,Crime,Musical', 'Documentary,History,Romance',\n",
       "       'Animation,Comedy,Music', 'Animation,Biography,Crime',\n",
       "       'Family,Fantasy,Romance', 'Action,Mystery,Romance',\n",
       "       'Comedy,History,Horror', 'Action,Romance,War',\n",
       "       'Family,Fantasy,Sci-Fi', 'Action,Crime,Romance',\n",
       "       'Drama,History,Mystery', 'Animation,Horror,Sci-Fi',\n",
       "       'Animation,Musical', 'Biography,Music', 'Sci-Fi,War',\n",
       "       'Animation,Sci-Fi,War', 'Comedy,Documentary,Musical',\n",
       "       'Comedy,Sci-Fi,Western', 'Crime,Documentary,Music',\n",
       "       'Adventure,Comedy,Thriller', 'History,War', 'Adventure,Comedy,War',\n",
       "       'Comedy,Fantasy,Sport', 'Action,Animation,Sport',\n",
       "       'Documentary,Mystery,Thriller', 'Documentary,Drama,Thriller',\n",
       "       'Fantasy,Music,Romance', 'Animation,Horror,Thriller',\n",
       "       'Documentary,Drama,Western', 'Comedy,Family,Music',\n",
       "       'Biography,Fantasy', 'Family,History,War',\n",
       "       'Animation,Documentary,Family', 'Action,Crime,Music',\n",
       "       'Animation,Horror,Music', 'Romance,Western', 'Fantasy,Music',\n",
       "       'Comedy,Fantasy,Mystery', 'History,Music', 'History,Romance',\n",
       "       'Action,Family,Sci-Fi', 'Comedy,Family,Western',\n",
       "       'Adventure,Biography', 'Animation,Romance,Sci-Fi',\n",
       "       'Animation,Fantasy,Mystery', 'Action,Comedy,War',\n",
       "       'Thriller,Western', 'Horror,Thriller,War',\n",
       "       'Family,Sci-Fi,Thriller', 'Drama,Horror,Western', 'Action,Music',\n",
       "       'Animation,Biography,Comedy', 'Comedy,Music,War',\n",
       "       'Adventure,Sport', 'Biography,Romance',\n",
       "       'Action,Biography,Thriller', 'Adventure,Comedy,Western',\n",
       "       'Horror,Romance,Sci-Fi', 'Adventure,Horror,Romance',\n",
       "       'Animation,Fantasy,Sci-Fi', 'Animation,Thriller',\n",
       "       'Family,Fantasy,Mystery', 'Adventure,Animation,Musical',\n",
       "       'Family,Thriller', 'Fantasy,History,Romance',\n",
       "       'Crime,Documentary,War', 'Adventure,History,Sci-Fi',\n",
       "       'Fantasy,Musical,Sci-Fi', 'Animation,Drama,Mystery',\n",
       "       'Adventure,Crime,Documentary', 'Animation,Crime,Music',\n",
       "       'Animation,Drama,Thriller', 'Drama,Music,News',\n",
       "       'Documentary,Music,News', 'Crime,Mystery,Western',\n",
       "       'Documentary,Reality-TV', 'Documentary,News,War',\n",
       "       'Adventure,Fantasy,Musical', 'Biography,Horror',\n",
       "       'History,Sci-Fi,Thriller', 'Animation,Fantasy,Horror',\n",
       "       'Crime,Horror,Sci-Fi', 'Comedy,History,War', 'History,Horror',\n",
       "       'Action,Mystery', 'Animation,Comedy,Mystery',\n",
       "       'Action,Fantasy,History', 'Family,Fantasy,Horror',\n",
       "       'Documentary,Fantasy,History', 'Comedy,Music,Sci-Fi',\n",
       "       'Adult,Horror', 'Action,Fantasy,Mystery', 'Drama,History,Western',\n",
       "       'Biography,Drama,Western', 'Documentary,Family,War',\n",
       "       'History,Thriller', 'Animation,Family,Sport',\n",
       "       'Action,Adventure,Music', 'Adventure,Horror,Western',\n",
       "       'Biography,Thriller', 'Documentary,Fantasy,Sci-Fi',\n",
       "       'Biography,Crime', 'Drama,Sci-Fi,Sport', 'Comedy,History,Romance',\n",
       "       'Documentary,News,Thriller', 'Fantasy,History,Mystery',\n",
       "       'Adventure,Fantasy,History', 'Animation,Comedy,Musical',\n",
       "       'Documentary,Music,Romance', 'Crime,Mystery,Romance',\n",
       "       'Comedy,Musical,Western', 'Biography,Documentary,Sci-Fi',\n",
       "       'Action,Romance,Sci-Fi', 'Documentary,Mystery,Sci-Fi',\n",
       "       'Crime,Fantasy,Mystery', 'Action,Fantasy,Western',\n",
       "       'Comedy,Family,Thriller', 'Adventure,Family,Music',\n",
       "       'Action,Musical', 'Fantasy,Musical', 'Animation,Crime,Documentary',\n",
       "       'Drama,Sci-Fi,Western', 'History,Sci-Fi',\n",
       "       'Comedy,Documentary,Sport', 'Crime,Thriller,Western',\n",
       "       'Adventure,Romance,Thriller', 'Horror,Sci-Fi,War',\n",
       "       'Fantasy,Horror,Western', 'Drama,Horror,Musical',\n",
       "       'Animation,Fantasy,Romance', 'Horror,Music,Mystery',\n",
       "       'Biography,Documentary,Horror', 'Romance,Thriller,War'],\n",
       "      dtype=object)"
      ]
     },
     "execution_count": 182,
     "metadata": {},
     "output_type": "execute_result"
    }
   ],
   "source": [
    "df_watched[\"genres\"].unique()"
   ]
  },
  {
   "cell_type": "code",
   "execution_count": null,
   "metadata": {},
   "outputs": [],
   "source": []
  }
 ],
 "metadata": {
  "kernelspec": {
   "display_name": "Python 3",
   "language": "python",
   "name": "python3"
  },
  "language_info": {
   "codemirror_mode": {
    "name": "ipython",
    "version": 3
   },
   "file_extension": ".py",
   "mimetype": "text/x-python",
   "name": "python",
   "nbconvert_exporter": "python",
   "pygments_lexer": "ipython3",
   "version": "3.7.3"
  }
 },
 "nbformat": 4,
 "nbformat_minor": 2
}
