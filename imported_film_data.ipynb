{
 "cells": [
  {
   "cell_type": "code",
   "execution_count": 4,
   "metadata": {},
   "outputs": [],
   "source": [
    "import pandas as pd"
   ]
  },
  {
   "cell_type": "code",
   "execution_count": 5,
   "metadata": {},
   "outputs": [],
   "source": [
    "import matplotlib.pyplot as plt"
   ]
  },
  {
   "cell_type": "code",
   "execution_count": 6,
   "metadata": {},
   "outputs": [],
   "source": [
    "import seaborn as sns"
   ]
  },
  {
   "cell_type": "code",
   "execution_count": 7,
   "metadata": {},
   "outputs": [],
   "source": [
    "bom_movie_gross = pd.read_csv(\"../data/bom.movie_gross.csv.gz\")"
   ]
  },
  {
   "cell_type": "code",
   "execution_count": 8,
   "metadata": {},
   "outputs": [],
   "source": [
    "imdb_name_basics = pd.read_csv(\"../data/imdb.name.basics.csv.gz\")"
   ]
  },
  {
   "cell_type": "code",
   "execution_count": 9,
   "metadata": {},
   "outputs": [],
   "source": [
    "imdb_title_akas = pd.read_csv(\"../data/imdb.title.akas.csv.gz\")"
   ]
  },
  {
   "cell_type": "code",
   "execution_count": 10,
   "metadata": {},
   "outputs": [],
   "source": [
    "imdb_title_basics = pd.read_csv(\"../data/imdb.title.basics.csv.gz\")"
   ]
  },
  {
   "cell_type": "code",
   "execution_count": 11,
   "metadata": {},
   "outputs": [],
   "source": [
    "imdb_title_crew = pd.read_csv(\"../data/imdb.title.crew.csv.gz\")"
   ]
  },
  {
   "cell_type": "code",
   "execution_count": 12,
   "metadata": {},
   "outputs": [],
   "source": [
    "imdb_title_principals = pd.read_csv(\"../data/imdb.title.principals.csv.gz\")"
   ]
  },
  {
   "cell_type": "code",
   "execution_count": 13,
   "metadata": {},
   "outputs": [],
   "source": [
    "imdb_title_ratings = pd.read_csv(\"../data/imdb.title.ratings.csv.gz\")"
   ]
  },
  {
   "cell_type": "code",
   "execution_count": 14,
   "metadata": {},
   "outputs": [],
   "source": [
    "rt_movie_info = pd.read_csv(\"../data/rt.movie_info.tsv.gz\", sep='\\t')"
   ]
  },
  {
   "cell_type": "code",
   "execution_count": 39,
   "metadata": {},
   "outputs": [],
   "source": [
    "rt_reviews = pd.read_csv(data_directory+'rt.reviews.tsv.gz', delimiter = '\\t', encoding = 'cp437')"
   ]
  },
  {
   "cell_type": "code",
   "execution_count": 16,
   "metadata": {},
   "outputs": [],
   "source": [
    "tmdb_movies = pd.read_csv(\"../data/tmdb.movies.csv.gz\")"
   ]
  },
  {
   "cell_type": "code",
   "execution_count": 17,
   "metadata": {},
   "outputs": [],
   "source": [
    "tn_movie_budgets = pd.read_csv(\"../data/tn.movie_budgets.csv.gz\")"
   ]
  },
  {
   "cell_type": "code",
   "execution_count": 18,
   "metadata": {},
   "outputs": [],
   "source": [
    "%matplotlib inline"
   ]
  },
  {
   "cell_type": "code",
   "execution_count": 32,
   "metadata": {},
   "outputs": [],
   "source": [
    "import pandas as pd\n",
    "data_directory = '../Data/'  \n",
    "# df_bom = pd.read_csv(data_directory+'bom.movie_gross.csv.gz') #Source: Box Office Mojo\n",
    "# df_rt_movies = pd.read_csv(data_directory+'rt.movie_info.tsv.gz', delimiter = '\\t') #Source: Rotten tomatoes\n",
    "# df_rt_reviews = pd.read_csv(data_directory+'rt.reviews.tsv.gz', delimiter = '\\t', encoding = 'cp437') #Source: Rotten tomatoes \n",
    "df_imdb_basics = pd.read_csv(data_directory+'imdb.title.basics.csv.gz') # Source: IMDB\n",
    "df_imdb_ratings = pd.read_csv(data_directory+'imdb.title.ratings.csv.gz') # Source: IMDB\n",
    "df_mdb_ratings = pd.read_csv(data_directory+'tmdb.movies.csv.gz') # Source: MovieDB\n",
    "df_mdb_revenues = pd.read_csv(data_directory+'tn.movie_budgets.csv.gz') # Source: MovieDB"
   ]
  },
  {
   "cell_type": "markdown",
   "metadata": {},
   "source": [
    "# Creating Lists and Graphs and Things"
   ]
  },
  {
   "cell_type": "markdown",
   "metadata": {},
   "source": [
    "Instead of using the arbitrary 100000 we will use 25%... "
   ]
  },
  {
   "cell_type": "markdown",
   "metadata": {},
   "source": [
    "So I want to first sort by \"averagerating\", because if we're going to claim to know what type of movie Microsoft Film Studios should make like some kind of mystic, we may as tell them we aim to be compared to the best of the best.  But they also need to have a certain amount of weight, or proof which comes for better or worse throgh \"numvotes\", because strength in numbers. "
   ]
  },
  {
   "cell_type": "markdown",
   "metadata": {},
   "source": [
    "# Plot average rating over the y-axis, movies with greater \"numvotes\" have a more opaque color whereas the movies with less are transparent. X-Axis displays names? vvvv"
   ]
  },
  {
   "cell_type": "code",
   "execution_count": 33,
   "metadata": {},
   "outputs": [],
   "source": [
    "# The function cleans the two Movie DB dataframes\n",
    "def df_clean(data_frame, release_date_column, movie_title_column):\n",
    "    data_frame.drop_duplicates(keep = 'first', inplace = True)\n",
    "    if data_frame[release_date_column].dtypes == 'int64':\n",
    "        data_frame[release_date_column] = pd.to_datetime(data_frame[release_date_column], format = '%Y').dt.to_period(\"Y\") # Assume that movies released in the same month of the same year are the same.\n",
    "    else:\n",
    "        data_frame[release_date_column] = pd.to_datetime(data_frame[release_date_column]).dt.to_period(\"Y\") # Assume that movies released in the same month of the same year are the same.\n",
    "    data_frame[movie_title_column] = [\" \".join(title.upper().split()) for title in data_frame[movie_title_column]] # Remove whitespaces\n",
    "    data_frame[movie_title_column] = [title.replace('Â', \"'\") for title in data_frame[movie_title_column]] \n",
    "    data_frame[movie_title_column] = [title.replace('#', '') for title in data_frame[movie_title_column]] \n",
    "    data_frame[movie_title_column] = [title.replace('\"', '') for title in data_frame[movie_title_column]]               \n",
    "    data_frame.drop_duplicates([movie_title_column, release_date_column], keep = False, inplace = True)\n",
    "    data_frame.sort_values(by = [release_date_column, movie_title_column], ascending = [False, True], inplace = True)\n",
    "    data_frame.rename(columns={release_date_column: 'release_date', movie_title_column: 'title'}, inplace = True)\n",
    "    return data_frame"
   ]
  },
  {
   "cell_type": "code",
   "execution_count": 34,
   "metadata": {},
   "outputs": [],
   "source": [
    "# Merge Movie DB dataframes\n",
    "df_mdb_ratings.drop('Unnamed: 0', axis = 1, inplace = True) # This is an extra index column\n",
    "df_mdb_ratings = df_clean(df_mdb_ratings, 'release_date', 'title')\n",
    "df_mdb_revenues = df_clean(df_mdb_revenues, 'release_date', 'movie')\n",
    "df_mdb = pd.merge(df_mdb_ratings, df_mdb_revenues, how = 'outer', \\\n",
    "              left_on = ['title', 'release_date'], \\\n",
    "              right_on = ['title', 'release_date'], \\\n",
    "              indicator = True, validate=\"one_to_one\", \\\n",
    "              sort = True)\n"
   ]
  },
  {
   "cell_type": "code",
   "execution_count": 35,
   "metadata": {},
   "outputs": [],
   "source": [
    "# Merge IMDB dataframes\n",
    "df_imdb_basics = df_clean(df_imdb_basics, 'start_year', 'primary_title')\n",
    "df_imdb = pd.merge(df_imdb_basics, df_imdb_ratings, how = 'outer', \\\n",
    "              on = 'tconst', \\\n",
    "              indicator = True, validate=\"one_to_one\")"
   ]
  },
  {
   "cell_type": "code",
   "execution_count": 36,
   "metadata": {},
   "outputs": [],
   "source": [
    "# Merge Movie DB and IMDB dataframes\n",
    "df = pd.merge(df_imdb.drop(columns = '_merge'), df_mdb.drop(columns = '_merge'), how = 'outer', \\\n",
    "              left_on = ['title', 'release_date'], \\\n",
    "              right_on = ['title', 'release_date'], \\\n",
    "              indicator = True, validate=\"many_to_one\", \\\n",
    "              sort = True)\n",
    "df_merged = df.loc[df._merge == 'both']"
   ]
  },
  {
   "cell_type": "code",
   "execution_count": 47,
   "metadata": {},
   "outputs": [],
   "source": [
    "df_merged = df.loc[df._merge == 'both']\n"
   ]
  },
  {
   "cell_type": "markdown",
   "metadata": {},
   "source": [
    "# Took out any movies that didn't have rating votes in either IMDB or MoviesDB"
   ]
  },
  {
   "cell_type": "code",
   "execution_count": 55,
   "metadata": {},
   "outputs": [
    {
     "data": {
      "text/plain": [
       "17"
      ]
     },
     "execution_count": 55,
     "metadata": {},
     "output_type": "execute_result"
    }
   ],
   "source": [
    "(df_merged['vote_average'].isna() & df_merged['numvotes'].isna()).sum()"
   ]
  },
  {
   "cell_type": "code",
   "execution_count": 51,
   "metadata": {},
   "outputs": [
    {
     "name": "stdout",
     "output_type": "stream",
     "text": [
      "<class 'pandas.core.frame.DataFrame'>\n",
      "Int64Index: 12125 entries, 3 to 159008\n",
      "Data columns (total 20 columns):\n",
      "tconst               12125 non-null object\n",
      "title                12125 non-null object\n",
      "original_title_x     12124 non-null object\n",
      "release_date         12125 non-null period[A-DEC]\n",
      "runtime_minutes      11882 non-null float64\n",
      "genres               12081 non-null object\n",
      "averagerating        11867 non-null float64\n",
      "numvotes             11867 non-null float64\n",
      "genre_ids            11992 non-null object\n",
      "id_x                 11992 non-null float64\n",
      "original_language    11992 non-null object\n",
      "original_title_y     11992 non-null object\n",
      "popularity           11992 non-null float64\n",
      "vote_average         11992 non-null float64\n",
      "vote_count           11992 non-null float64\n",
      "id_y                 1504 non-null float64\n",
      "production_budget    1504 non-null object\n",
      "domestic_gross       1504 non-null object\n",
      "worldwide_gross      1504 non-null object\n",
      "_merge               12125 non-null category\n",
      "dtypes: category(1), float64(8), object(10), period[A-DEC](1)\n",
      "memory usage: 1.9+ MB\n"
     ]
    }
   ],
   "source": [
    "df_merged.info()"
   ]
  },
  {
   "cell_type": "code",
   "execution_count": 52,
   "metadata": {},
   "outputs": [
    {
     "data": {
      "text/plain": [
       "0.021278350515463916"
      ]
     },
     "execution_count": 52,
     "metadata": {},
     "output_type": "execute_result"
    }
   ],
   "source": [
    "258/12125"
   ]
  },
  {
   "cell_type": "code",
   "execution_count": null,
   "metadata": {},
   "outputs": [],
   "source": []
  }
 ],
 "metadata": {
  "kernelspec": {
   "display_name": "Python 3",
   "language": "python",
   "name": "python3"
  },
  "language_info": {
   "codemirror_mode": {
    "name": "ipython",
    "version": 3
   },
   "file_extension": ".py",
   "mimetype": "text/x-python",
   "name": "python",
   "nbconvert_exporter": "python",
   "pygments_lexer": "ipython3",
   "version": "3.7.3"
  }
 },
 "nbformat": 4,
 "nbformat_minor": 2
}
