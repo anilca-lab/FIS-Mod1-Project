{
 "cells": [
  {
   "cell_type": "markdown",
   "metadata": {},
   "source": [
    "# Project Objective"
   ]
  },
  {
   "cell_type": "markdown",
   "metadata": {},
   "source": [
    "\n",
    "Microsoft is creating a new movie studio. This project aims to advise Microsoft on what type of movies to produce. More specifically, it presents three actionable recommendations. "
   ]
  },
  {
   "cell_type": "markdown",
   "metadata": {},
   "source": [
    "# Recommendations"
   ]
  },
  {
   "cell_type": "markdown",
   "metadata": {},
   "source": [
    "The three recommendations derived from our analysis are:\n",
    "    \n",
    "    1. Adopt the less riskier-larger budget business model (> $90 million)\n",
    "\n",
    "    2. Exploiting the synergies between Microsoft’s existing assets/capabilities, focus on animation movies\n",
    " \n",
    "    3. Release the movie in a month with large audience numbers but less competition - October\n",
    "\n",
    "\n",
    "The following is a technical description of the process that is driving these recommendations. "
   ]
  },
  {
   "cell_type": "markdown",
   "metadata": {},
   "source": [
    "# Process"
   ]
  },
  {
   "cell_type": "markdown",
   "metadata": {},
   "source": [
    "### Data Cleaning"
   ]
  },
  {
   "cell_type": "markdown",
   "metadata": {},
   "source": [
    "We used two sources for our data: Two IMDB and two Movie DB files. IMDB provided basic movie characteristics and ratings while the Movie DB gave budget and revenues along with similarly basic movie characteristics.\n",
    "We first merged the two files provided by the same source. The IMDB files contained a unique ID for each movie, which became key for the merge. The Movie DB files were merged with the release year-month and movie name used as the key. Movie names had to be processed to eliminate whitespaces and non-alphanumeric characters, and ware converted to uppercase.\n",
    "Duplicate observations were also dropped.\n",
    "As the last step, two sets of files were merged using the year and movie name as the joint key. "
   ]
  },
  {
   "cell_type": "code",
   "execution_count": null,
   "metadata": {},
   "outputs": [],
   "source": [
    "import Movie_Analysis_Functions # This file contains the functions created for this project.\n",
    "import pandas as pd\n",
    "import numpy as np\n",
    "import matplotlib.pyplot as plt\n",
    "import seaborn as sns"
   ]
  },
  {
   "cell_type": "code",
   "execution_count": null,
   "metadata": {},
   "outputs": [],
   "source": [
    "data_directory = '/Users/flatironschol/fis_projects/Data/'  \n",
    "df_imdb_basics = pd.read_csv(data_directory+'imdb.title.basics.csv.gz') # Source: IMDB\n",
    "df_imdb_ratings = pd.read_csv(data_directory+'imdb.title.ratings.csv.gz') # Source: IMDB\n",
    "df_mdb_ratings = pd.read_csv(data_directory+'tmdb.movies.csv.gz') # Source: MovieDB\n",
    "df_mdb_revenues = pd.read_csv(data_directory+'tn.movie_budgets.csv.gz') # Source: MovieDB"
   ]
  },
  {
   "cell_type": "code",
   "execution_count": null,
   "metadata": {},
   "outputs": [],
   "source": [
    "df_mdb_ratings.drop('Unnamed: 0', axis = 1, inplace = True) # This is an extra index column\n",
    "df_mdb_ratings = df_clean(df_mdb_ratings, 'release_date', 'title')\n",
    "df_mdb_revenues = df_clean(df_mdb_revenues, 'release_date', 'movie')\n",
    "df_mdb = pd.merge(df_mdb_ratings, df_mdb_revenues, how = 'outer', \\\n",
    "              left_on = ['title', 'release_year_month', 'release_year'], \\\n",
    "              right_on = ['title', 'release_year_month', 'release_year'], \\\n",
    "              indicator = True, validate=\"one_to_one\", \\\n",
    "              sort = True)\n",
    "\n",
    "# Merge IMDB dataframes\n",
    "df_imdb_basics = df_clean(df_imdb_basics, 'start_year', 'primary_title')\n",
    "df_imdb = pd.merge(df_imdb_basics, df_imdb_ratings, how = 'outer', \\\n",
    "              on = 'tconst', \\\n",
    "              indicator = True, validate=\"one_to_one\")\n",
    "\n",
    "# Merge Movie DB and IMDB dataframes\n",
    "df = pd.merge(df_imdb.drop(columns = '_merge'), df_mdb.drop(columns = '_merge'), how = 'outer', \\\n",
    "              left_on = ['title', 'release_year'], \\\n",
    "              right_on = ['title', 'release_year'], \\\n",
    "              indicator = True, validate=\"many_to_many\", \\\n",
    "              sort = True)\n",
    "df_merged = df.loc[df._merge == 'both']\n",
    "\n",
    "# Clean the merged dataframe\n",
    "df_clean = df.drop(columns = ['tconst', 'original_title_x', 'runtime_minutes', 'id_x', 'original_language', 'original_title_y', 'id_y'])\n",
    "df_clean_drop = df_clean.loc[(df_clean.numvotes.isna()) & (df_clean.vote_count.isna())]\n",
    "df_clean = df_clean.drop(df_clean_drop.index)\n",
    "\n",
    "df_clean.to_csv (data_directory+'export_df_clean.csv', index = None, header=True) "
   ]
  },
  {
   "cell_type": "markdown",
   "metadata": {},
   "source": [
    "### Descriptive Analysis"
   ]
  },
  {
   "cell_type": "markdown",
   "metadata": {},
   "source": [
    "The analysis focuses on two outcome indicators of interest: return on investment and audience numbers. For the first, we use log difference between the worldwide gross revenues and production budget to reduce dispersion. For the second, we use number of votes for the IMDB ratings. We prefer to use the IMDB ratings as the movie coverage is larger compared to the Movie DB ratings.\n",
    "We link these outcome indicators to three movie characteristics: budget, release month, and genre. Budget refers to the production budget in log terms, similarly to reduce dispersion. The release month is extracted from release date (available only for the Movie DB data). The genre analysis does not classify each movie strictly under a genre. If a movie is classifed under multiple genres such as animation and comedy, the same movie will appear under both the list for animation movies and the list for comedy movies.\n",
    "In exploring the links between budget and return on investment, outliers in the budget and revenue series are identified using the standard Q1-1.5IQR, Q3+1.5IQR formula. These outliers, for the time being, are dropped and will be subject to further analysis.  "
   ]
  },
  {
   "cell_type": "code",
   "execution_count": 3,
   "metadata": {},
   "outputs": [],
   "source": [
    "data_directory = '/Users/flatironschol/fis_projects/Data/' \n",
    "import Movie_Analysis_Functions # This file contains the functions created for this project.\n",
    "import numpy as np\n",
    "import pandas as pd\n",
    "import matplotlib.pyplot as plt\n",
    "import seaborn as sns"
   ]
  },
  {
   "cell_type": "code",
   "execution_count": null,
   "metadata": {},
   "outputs": [],
   "source": [
    "df_clean = pd.read_csv(data_directory+'export_df_clean.csv')\n",
    "df_budget = df_clean.loc[(df_clean.production_budget.isna() == False) & \\\n",
    "                         (df_clean.domestic_gross.isna() == False) & \\\n",
    "                         (df_clean.worldwide_gross.isna() == False)]\n",
    "# Convert budget and revenues to int and log terms using \n",
    "# clean_dollar_values function from Movie_Analysis_Functions Python file.\n",
    "for series_name in ['production_budget', 'domestic_gross', 'worldwide_gross']:\n",
    "    df_budget = clean_dollar_values(df_budget, series_name)\n",
    "df_budget['budget'] = np.log(df_budget.production_budget_int)\n",
    "df_budget['domestic_revenues'] = np.log(df_budget.domestic_gross_int)\n",
    "df_budget['world_revenues'] = np.log(df_budget.worldwide_gross_int)"
   ]
  },
  {
   "cell_type": "code",
   "execution_count": null,
   "metadata": {},
   "outputs": [],
   "source": [
    "# Clean out outliers in budget and worldwide revenue series using\n",
    "# calculate_whiskers function from Movie_Analysis_Functions Python file.\n",
    "plt.boxplot([df_budget.budget, df_budget.world_revenues])\n",
    "plt.set_xticklabels = [(1, 'Budget'), (2, 'Worldwide revenues')]\n",
    "plt.show()\n",
    "df_budget['budget_outliers'] = df_budget.loc[(df_budget.budget < calculate_whiskers(df_budget.budget)[0]) | \\\n",
    "                                             (df_budget.budget > calculate_whiskers(df_budget.budget)[1])].budget\n",
    "df_budget = df_budget.loc[df_budget.budget_outliers.isna()]\n",
    "df_budget['world_revenues_outliers'] = df_budget.loc[(df_budget.world_revenues < calculate_whiskers(df_budget.world_revenues)[0]) | \\\n",
    "                                                     (df_budget.world_revenues > calculate_whiskers(df_budget.world_revenues)[1])].world_revenues\n",
    "df_budget = df_budget.loc[df_budget.world_revenues_outliers.isna()]"
   ]
  },
  {
   "cell_type": "code",
   "execution_count": null,
   "metadata": {},
   "outputs": [],
   "source": [
    "# Show outliers for ROI\n",
    "df_budget['roi'] = df_budget.world_revenues - df_budget.budget \n",
    "df_budget['roi_bottom'] = df_budget.loc[(df_budget.roi < calculate_whiskers(df_budget.roi)[0])].roi\n",
    "df_budget['roi_top'] = df_budget.loc[(df_budget.roi > calculate_whiskers(df_budget.roi)[1])].roi\n",
    "df_budget_roi_top = df_budget.loc[df_budget.roi_top.isna() == False]\n",
    "df_budget_roi_bottom = df_budget.loc[df_budget.roi_bottom.isna() == False]\n",
    "plt.scatter(df_budget.budget, df_budget.roi, color = 'grey', s = 3) \n",
    "plt.scatter(df_budget.budget, df_budget.roi_bottom, color = 'r') \n",
    "plt.scatter(df_budget.budget, df_budget.roi_top, color = 'g')\n",
    "plt.xticks(np.arange(13, 20+(20-13)/4, (20-13)/4), (np.exp(np.arange(13, 20+(20-13)/4, (20-13)/4))*(10**(-6))).round(1), rotation = 90)\n",
    "plt.xlabel('Budget (in millions)')\n",
    "plt.yticks(np.arange(-6, 5+(5-(-6))/8, (5-(-6))/8), np.exp(np.arange(-6, 5+(5-(-6))/8, (5-(-6))/8)).round(2))\n",
    "plt.ylabel('Return on investment\\n(worldwide revenues/production budget)')\n",
    "plt.title('Return on investment varies significantly')\n",
    "plt.show()"
   ]
  },
  {
   "cell_type": "code",
   "execution_count": null,
   "metadata": {},
   "outputs": [],
   "source": [
    "# Show ROI dispersion for <> $90 million movies\n",
    "boxplot_data = [df_budget.loc[df_budget.production_budget_int <= 90*(10**6)].roi, \\\n",
    "                df_budget.loc[df_budget.production_budget_int > 90*(10**6)].roi]\n",
    "plt.boxplot(boxplot_data)\n",
    "plt.ylabel('Return on investment\\n(Worldwide revenues/Production cost)')\n",
    "plt.yticks(np.arange(-6, 5+(5-(-6))/8, (5-(-6))/8), \\\n",
    "           np.exp(np.arange(-6, 5+(5-(-6))/8, (5-(-6))/8)).round(2))\n",
    "plt.xticks(np.arange(3), ('','Production budget\\n<= $90 million', 'Production budget\\n> $90 million'))\n",
    "plt.title('Different business models')\n",
    "plt.show()\n",
    "lp_large = df_budget.loc[(df_budget.production_budget_int > 90*(10**6)) & (df_budget.roi < 0)] \n",
    "lp_small = df_budget.loc[(df_budget.production_budget_int <= 90*(10**6)) & (df_budget.roi < 0)]\n",
    "# Show if there is a relationship between ROI and ratings\n",
    "plt.scatter(np.log(df_budget.numvotes), df_budget.roi)\n",
    "plt.scatter(np.log(df_budget.averagerating), df_budget.roi)\n",
    "plt.scatter(np.log(df_budget.averagerating), np.log(df_budget.numvotes))"
   ]
  },
  {
   "cell_type": "code",
   "execution_count": null,
   "metadata": {},
   "outputs": [],
   "source": [
    "# Prepare descriptive stats at the industry level\n",
    "df_budget_annual_sum = df_budget.loc[(df_budget.release_year >=2010) & \\\n",
    "                                     (df_budget.release_year <= 2018)]. \\\n",
    "                                     groupby(['release_year']). \\\n",
    "                                     sum()\n",
    "plt.fill_between(df_budget_annual_sum.index, \\\n",
    "                 (df_budget_annual_sum.production_budget_int)*(10**(-9)), \\\n",
    "                 (df_budget_annual_sum.worldwide_gross_int)*(10**(-9)), \\\n",
    "                 color='g')\n",
    "plt.xlabel('Release year')\n",
    "plt.ylabel('Production budget and worldwide revenues\\n(in billions)')\n",
    "plt.title('Increasing returns to movie production')\n",
    "plt.show()\n",
    "df_clean_annual_count = df_clean.loc[(df_clean.release_year >=2010) & \\\n",
    "                                     (df_clean.release_year <= 2018)]. \\\n",
    "                                     groupby(['release_year']). \\\n",
    "                                     title.count() \n",
    "plt.plot(df_clean.release_year, df_clean_annual_count)"
   ]
  }
 ],
 "metadata": {
  "kernelspec": {
   "display_name": "Python 3",
   "language": "python",
   "name": "python3"
  },
  "language_info": {
   "codemirror_mode": {
    "name": "ipython",
    "version": 3
   },
   "file_extension": ".py",
   "mimetype": "text/x-python",
   "name": "python",
   "nbconvert_exporter": "python",
   "pygments_lexer": "ipython3",
   "version": "3.7.3"
  }
 },
 "nbformat": 4,
 "nbformat_minor": 2
}
