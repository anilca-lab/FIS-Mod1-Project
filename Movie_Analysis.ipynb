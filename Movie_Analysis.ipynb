{
 "cells": [
  {
   "cell_type": "markdown",
   "metadata": {},
   "source": [
    "# The following is a 3 day analysis of the movie industry for a Flatiron School Data Science project. "
   ]
  },
  {
   "cell_type": "markdown",
   "metadata": {},
   "source": [
    "+ At the end of the day Microsoft is responsible to it's shareholders and must show an attempt to make moeny and produce worthwhile content. \n",
    "+ Based on the data sets, there were some obvious cleaning functions, such as getting rid of films without the neccessary data or that didn't meet our expectations of a Microsoft Movie.  \n",
    "+ By using vizualizations created using Pandas, Matplot, Seaborn, and other libaries we were able to better illustrate our answer to the problem"
   ]
  },
  {
   "cell_type": "code",
   "execution_count": null,
   "metadata": {},
   "outputs": [],
   "source": []
  },
  {
   "cell_type": "code",
   "execution_count": null,
   "metadata": {},
   "outputs": [],
   "source": []
  }
 ],
 "metadata": {
  "kernelspec": {
   "display_name": "Python 3",
   "language": "python",
   "name": "python3"
  },
  "language_info": {
   "codemirror_mode": {
    "name": "ipython",
    "version": 3
   },
   "file_extension": ".py",
   "mimetype": "text/x-python",
   "name": "python",
   "nbconvert_exporter": "python",
   "pygments_lexer": "ipython3",
   "version": "3.7.3"
  }
 },
 "nbformat": 4,
 "nbformat_minor": 2
}
